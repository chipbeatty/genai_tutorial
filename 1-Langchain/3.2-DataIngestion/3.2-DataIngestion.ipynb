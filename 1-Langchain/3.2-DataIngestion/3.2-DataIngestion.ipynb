{
 "cells": [
  {
   "cell_type": "code",
   "execution_count": null,
   "metadata": {},
   "outputs": [],
   "source": [
    "## Test Loader\n",
    "\n",
    "from langchain_community.document_loaders import TextLoader\n"
   ]
  }
 ],
 "metadata": {
  "language_info": {
   "name": "python"
  }
 },
 "nbformat": 4,
 "nbformat_minor": 2
}
